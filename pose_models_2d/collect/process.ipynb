{
 "cells": [
  {
   "cell_type": "code",
   "execution_count": 7,
   "metadata": {},
   "outputs": [],
   "source": [
    "import os, json, pandas as pd, numpy as np\n",
    "\n",
    "data_path = os.path.join(os.environ[\"DATAPATH\"], \"open\", \"tactile-servoing-2d-dobot\")"
   ]
  },
  {
   "cell_type": "code",
   "execution_count": 8,
   "metadata": {},
   "outputs": [],
   "source": [
    "# Paths and files\n",
    "meta_file = os.path.join(\"digitac\", \"model_edge2d\", \"meta.json\")\n",
    "\n",
    "# Do split\n",
    "datasets = [\"train\", \"test\"]\n",
    "split = 0.75"
   ]
  },
  {
   "cell_type": "code",
   "execution_count": 11,
   "metadata": {},
   "outputs": [],
   "source": [
    "# Create new dataset\n",
    "for set in datasets:\n",
    "    os.makedirs(os.path.join(data_path, os.path.dirname(meta_file), set), exist_ok=True) \n",
    "\n",
    "    # Load meta data and targets\n",
    "    with open(os.path.join(data_path, meta_file), 'r') as f: \n",
    "        meta = json.load(f) \n",
    "    target_df_file = meta_file.replace(\"meta.json\", \"targets.csv\")\n",
    "    target_df = pd.read_csv(os.path.join(data_path, target_df_file))\n",
    "\n",
    "    # Select data\n",
    "    np.random.seed(0) # make predictable\n",
    "    inds = np.random.choice([True, False], size=(meta[\"num_poses\"]), p=[split, 1-split])\n",
    "    if set==\"test\": inds = np.invert(inds)\n",
    "\n",
    "    # # define new ranges\n",
    "    # meta['poses_rng'][0][0] = -4; meta['poses_rng'][1][0] = 4\n",
    "    # lower = target_df[['pose_1','pose_2','pose_3','pose_4','pose_5','pose_6']]>=meta['poses_rng'][0]\n",
    "    # upper = target_df[['pose_1','pose_2','pose_3','pose_4','pose_5','pose_6']]<=meta['poses_rng'][1]\n",
    "    # inds = np.logical_and(np.logical_and(inds, lower.all(axis=1)), upper.all(axis=1))\n",
    "\n",
    "    # Save new dataset\n",
    "    meta[\"meta_file\"] =  os.path.join(os.path.dirname(meta_file), set, \"meta.json\")\n",
    "    meta[\"target_df_file\"] = os.path.join(os.path.dirname(meta_file), set, \"targets.csv\")\n",
    "    meta[\"num_poses\"] = len(target_df[inds])\n",
    "    with open(os.path.join(data_path, meta[\"meta_file\"]), 'w') as f: \n",
    "        json.dump(meta, f) \n",
    "    target_df[inds].to_csv(os.path.join(data_path, meta[\"target_df_file\"]), index=False)"
   ]
  }
 ],
 "metadata": {
  "kernelspec": {
   "display_name": "Python 3.7.10 ('tactip1')",
   "language": "python",
   "name": "python3"
  },
  "language_info": {
   "codemirror_mode": {
    "name": "ipython",
    "version": 3
   },
   "file_extension": ".py",
   "mimetype": "text/x-python",
   "name": "python",
   "nbconvert_exporter": "python",
   "pygments_lexer": "ipython3",
   "version": "3.7.10"
  },
  "orig_nbformat": 4,
  "vscode": {
   "interpreter": {
    "hash": "4c9b9ca9dca869b42267194e2687d94a3b5befc204173014976e870790ccad7e"
   }
  }
 },
 "nbformat": 4,
 "nbformat_minor": 2
}
